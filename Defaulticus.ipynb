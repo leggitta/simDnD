{
 "cells": [
  {
   "cell_type": "code",
   "execution_count": 1,
   "metadata": {},
   "outputs": [],
   "source": [
    "import numpy as np\n",
    "import pandas as pd"
   ]
  },
  {
   "cell_type": "code",
   "execution_count": 2,
   "metadata": {},
   "outputs": [],
   "source": [
    "verbose = False"
   ]
  },
  {
   "cell_type": "code",
   "execution_count": 3,
   "metadata": {},
   "outputs": [],
   "source": [
    "# read stats\n",
    "stats = pd.read_excel('stats.xls').set_index('Name')"
   ]
  },
  {
   "cell_type": "code",
   "execution_count": 4,
   "metadata": {},
   "outputs": [],
   "source": [
    "class Character:\n",
    "    def __init__(self, data):\n",
    "        self.name = data.name\n",
    "        for k, v in data.items():\n",
    "            setattr(self, k.lower(), v)\n",
    "    \n",
    "    def __str__(self):\n",
    "        return self.name\n",
    "    \n",
    "    def __repr__(self):\n",
    "        return self.name\n",
    "    \n",
    "    def roll_initiative(self):\n",
    "        roll = np.random.randint(20) + 1 + (self.dexterity - 10) // 2\n",
    "        self.initiative = roll\n",
    "        return roll\n",
    "    \n",
    "    def attack(self, target):\n",
    "        # roll against target armor class\n",
    "        roll = np.random.randint(20) + 1 + self.melee_bonus\n",
    "        if verbose:\n",
    "            print('Roll d20+%d = %d' % (self.melee_bonus, roll))\n",
    "        \n",
    "        if roll < target.armor_class:\n",
    "            if verbose:\n",
    "                print('%s missed %s' % (self, target))\n",
    "            return\n",
    "        \n",
    "        # roll damage\n",
    "        n_dice, damage = self.melee_damage.split('d')\n",
    "        n_dice = int(n_dice)\n",
    "        if '+' in damage:\n",
    "            damage_die, damage = [int(s) for s in damage.split('+')]\n",
    "        elif '-' in damage:\n",
    "            damage_die, damage = [int(s) for s in damage.split('-')]\n",
    "            damage *= -1\n",
    "        \n",
    "        for n in range(n_dice):\n",
    "            damage += np.random.randint(damage_die) + 1\n",
    "        \n",
    "        damage = max(0, damage)\n",
    "        \n",
    "        \n",
    "        target.hit_points -= damage\n",
    "        \n",
    "        if verbose:\n",
    "            print('%s hit %s and dealt %d damage' % (self, target, damage))\n",
    "\n",
    "        return"
   ]
  },
  {
   "cell_type": "code",
   "execution_count": 5,
   "metadata": {},
   "outputs": [
    {
     "name": "stdout",
     "output_type": "stream",
     "text": [
      "Goblin: 52, Player: 948\n"
     ]
    }
   ],
   "source": [
    "goblin_wins = 0\n",
    "player_wins = 0\n",
    "\n",
    "for n in range(1000):\n",
    "    player = Character(stats['Defaulticus'])\n",
    "    goblin = Character(stats['Goblin'])\n",
    "    \n",
    "    # roll initiative\n",
    "    player.roll_initiative()\n",
    "    goblin.roll_initiative()\n",
    "    \n",
    "    # determine order\n",
    "    lineup = np.array([player, goblin])\n",
    "    order = np.argsort([x.initiative for x in lineup])[::-1]\n",
    "    lineup = lineup[order]\n",
    "    \n",
    "    while (player.hit_points > 0) and (goblin.hit_points > 0):\n",
    "        if goblin.hit_points > 0:\n",
    "            player.attack(goblin)\n",
    "\n",
    "        if goblin.hit_points > 0:\n",
    "            goblin.attack(player)\n",
    "    \n",
    "    if player.hit_points > 0:\n",
    "        player_wins += 1\n",
    "    \n",
    "    if goblin.hit_points > 0:\n",
    "        goblin_wins += 1\n",
    "\n",
    "print('Goblin: %d, Player: %d' % (goblin_wins, player_wins))"
   ]
  },
  {
   "cell_type": "code",
   "execution_count": null,
   "metadata": {},
   "outputs": [],
   "source": []
  },
  {
   "cell_type": "code",
   "execution_count": null,
   "metadata": {},
   "outputs": [],
   "source": []
  }
 ],
 "metadata": {
  "kernelspec": {
   "display_name": "Python 3",
   "language": "python",
   "name": "python3"
  },
  "language_info": {
   "codemirror_mode": {
    "name": "ipython",
    "version": 3
   },
   "file_extension": ".py",
   "mimetype": "text/x-python",
   "name": "python",
   "nbconvert_exporter": "python",
   "pygments_lexer": "ipython3",
   "version": "3.7.1"
  }
 },
 "nbformat": 4,
 "nbformat_minor": 2
}
