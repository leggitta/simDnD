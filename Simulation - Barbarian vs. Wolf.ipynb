{
 "cells": [
  {
   "cell_type": "code",
   "execution_count": 1,
   "metadata": {},
   "outputs": [],
   "source": [
    "import numpy as np\n",
    "import pandas as pd\n",
    "import time\n",
    "from src.classes import Encounter, Wolf, Barbarian"
   ]
  },
  {
   "cell_type": "code",
   "execution_count": 2,
   "metadata": {},
   "outputs": [
    {
     "data": {
      "text/plain": [
       "'\\nTODO:\\n- barbarian bonus attack\\n    - instead switched to greatsword\\n- prevent superposition\\n- wolf trip\\n'"
      ]
     },
     "execution_count": 2,
     "metadata": {},
     "output_type": "execute_result"
    }
   ],
   "source": [
    "'''\n",
    "TODO:\n",
    "- barbarian bonus attack\n",
    "    - instead switched to greatsword\n",
    "- prevent superposition\n",
    "- wolf trip\n",
    "'''"
   ]
  },
  {
   "cell_type": "code",
   "execution_count": 3,
   "metadata": {},
   "outputs": [],
   "source": [
    "xl = pd.read_excel('stats.xls', None)"
   ]
  },
  {
   "cell_type": "code",
   "execution_count": 4,
   "metadata": {
    "scrolled": false
   },
   "outputs": [
    {
     "name": "stdout",
     "output_type": "stream",
     "text": [
      "Ran 1000 simulations in 4.50 seconds\n",
      "{'heroes': 432, 'monsters': 568}\n"
     ]
    }
   ],
   "source": [
    "wins = {\n",
    "    'heroes': 0,\n",
    "    'monsters': 0\n",
    "}\n",
    "t0 = time.time()\n",
    "n_trials = int(1000)\n",
    "verbose = False\n",
    "\n",
    "for trial in range(n_trials):\n",
    "\n",
    "    # initialize combatants\n",
    "    data = xl['Heroes'].query('Name == \"Groucho\"').iloc[0].to_dict()\n",
    "    groucho = Barbarian(data, position=(0, 0), team='heroes')\n",
    "\n",
    "    data = xl['Monsters'].query('Name == \"Wolf\"').iloc[0].to_dict()\n",
    "    wolf = Wolf(data, position=(0, 50), team='monsters')\n",
    "    wolf2 = Wolf(data, position=(10, 50), team='monsters', name='Wolf 2')\n",
    "    wolf3 = Wolf(data, position=(20, 50), team='monsters', name='Wolf 3')\n",
    "    wolf4 = Wolf(data, position=(0, 60), team='monsters', name='Wolf 4')\n",
    "    \n",
    "    # initialize encounter\n",
    "    encounter = Encounter([groucho, wolf, wolf2, wolf3, wolf4])\n",
    "\n",
    "    # roll initiative\n",
    "    encounter.roll_initiative()\n",
    "\n",
    "    turn = 1\n",
    "    \n",
    "    # take turns\n",
    "    while True:\n",
    "        if verbose:\n",
    "            print('\\nTurn %d' % turn)\n",
    "\n",
    "        # each combatant takes their turn\n",
    "        for c in encounter.order:\n",
    "            if verbose:\n",
    "                print('%s turn' % c)\n",
    "            c.turn(encounter)\n",
    "\n",
    "        # check for winner\n",
    "        left_standing = []\n",
    "        for c in encounter.order:\n",
    "            if c.current_hp > 0:\n",
    "                left_standing.append(c)\n",
    "        if len(np.unique([c.team for c in left_standing])) < 2:\n",
    "            if verbose:\n",
    "                print('%s win!\\n' % left_standing[0].team)\n",
    "            wins[left_standing[0].team] += 1\n",
    "            break\n",
    "        turn += 1\n",
    "\n",
    "dt = time.time() - t0\n",
    "print('Ran %d simulations in %.2f seconds' % (n_trials, dt))\n",
    "print(wins)"
   ]
  },
  {
   "cell_type": "code",
   "execution_count": null,
   "metadata": {},
   "outputs": [],
   "source": []
  }
 ],
 "metadata": {
  "kernelspec": {
   "display_name": "Python 3",
   "language": "python",
   "name": "python3"
  },
  "language_info": {
   "codemirror_mode": {
    "name": "ipython",
    "version": 3
   },
   "file_extension": ".py",
   "mimetype": "text/x-python",
   "name": "python",
   "nbconvert_exporter": "python",
   "pygments_lexer": "ipython3",
   "version": "3.7.1"
  }
 },
 "nbformat": 4,
 "nbformat_minor": 2
}
